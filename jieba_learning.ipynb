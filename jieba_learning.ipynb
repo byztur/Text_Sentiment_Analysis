{
 "cells": [
  {
   "cell_type": "code",
   "execution_count": 1,
   "id": "initial_id",
   "metadata": {
    "collapsed": true,
    "ExecuteTime": {
     "end_time": "2024-05-17T02:59:59.040277600Z",
     "start_time": "2024-05-17T02:59:58.786836800Z"
    }
   },
   "outputs": [],
   "source": [
    "import jieba"
   ]
  },
  {
   "cell_type": "code",
   "outputs": [
    {
     "name": "stderr",
     "output_type": "stream",
     "text": [
      "Building prefix dict from the default dictionary ...\n",
      "Loading model from cache C:\\Users\\1444mng\\AppData\\Local\\Temp\\jieba.cache\n",
      "Loading model cost 0.468 seconds.\n",
      "Prefix dict has been built successfully.\n"
     ]
    },
    {
     "name": "stdout",
     "output_type": "stream",
     "text": [
      "我们/去/尝尝/尝新/开/的/火锅/火锅店/的/麻辣/麻辣锅/锅底/吧/！\n",
      "我们/去/尝尝/新开/的/火锅店/的/麻辣锅/底/吧/！\n",
      "我们/去/尝尝/新开/的/火锅/火锅店/的/麻辣/麻辣锅/底/吧/！\n"
     ]
    }
   ],
   "source": [
    "string = \"我们去尝尝新开的火锅店的麻辣锅底吧！\"\n",
    "#全模式\n",
    "seg1 = jieba.cut(string,cut_all=True)\n",
    "print('/'.join(seg1))\n",
    "# #精确模式\n",
    "seg2 = jieba.cut(string,cut_all=False)\n",
    "print('/'.join(seg2))\n",
    "# #搜索引擎模式\n",
    "seg3 = jieba.cut_for_search(string)\n",
    "print('/'.join(seg3))"
   ],
   "metadata": {
    "collapsed": false,
    "ExecuteTime": {
     "end_time": "2024-05-17T03:00:01.545216700Z",
     "start_time": "2024-05-17T03:00:01.058489400Z"
    }
   },
   "id": "223223e0d6e00402",
   "execution_count": 2
  },
  {
   "cell_type": "code",
   "outputs": [
    {
     "name": "stdout",
     "output_type": "stream",
     "text": [
      "我们/去/尝尝/新开/的/火锅店/的/麻辣锅底/吧/！\n"
     ]
    }
   ],
   "source": [
    "#自定义词典\n",
    "jieba.load_userdict('dict_demo.txt')\n",
    "words = jieba.cut(string)\n",
    "print('/'.join(words))"
   ],
   "metadata": {
    "collapsed": false,
    "ExecuteTime": {
     "end_time": "2024-05-17T03:00:04.006644100Z",
     "start_time": "2024-05-17T03:00:03.999365200Z"
    }
   },
   "id": "acab4d7035ce2cb3",
   "execution_count": 3
  },
  {
   "cell_type": "code",
   "outputs": [
    {
     "name": "stdout",
     "output_type": "stream",
     "text": [
      "我们/去/尝尝新开/的/火锅店/的/麻辣锅底/吧/！\n"
     ]
    }
   ],
   "source": [
    "jieba.add_word(\"尝尝新开\")\n",
    "jieba.suggest_freq(('尝尝新开'),True)\n",
    "words = jieba.cut(string)\n",
    "print('/'.join(words))"
   ],
   "metadata": {
    "collapsed": false,
    "ExecuteTime": {
     "end_time": "2024-05-17T03:01:57.583582800Z",
     "start_time": "2024-05-17T03:01:57.572121800Z"
    }
   },
   "id": "e20a9a0b94ca3a1",
   "execution_count": 5
  },
  {
   "cell_type": "code",
   "outputs": [
    {
     "name": "stdout",
     "output_type": "stream",
     "text": [
      "我们 r\n",
      "去 v\n",
      "尝尝新开 x\n",
      "的 uj\n",
      "火锅店 n\n",
      "的 uj\n",
      "麻辣锅底 n\n",
      "吧 y\n",
      "！ x\n"
     ]
    }
   ],
   "source": [
    "import jieba.posseg as pseg\n",
    "words = pseg.cut(string)\n",
    "for word in words:\n",
    "    print(word.word,word.flag)"
   ],
   "metadata": {
    "collapsed": false,
    "ExecuteTime": {
     "end_time": "2024-05-17T03:03:00.422197100Z",
     "start_time": "2024-05-17T03:03:00.136950900Z"
    }
   },
   "id": "9d20ecc93c25d6f8",
   "execution_count": 6
  },
  {
   "cell_type": "code",
   "outputs": [
    {
     "name": "stdout",
     "output_type": "stream",
     "text": [
      "手机/音效/拍照/屏幕\n"
     ]
    }
   ],
   "source": [
    "import jieba.analyse as al\n",
    "word = '用了一段时间，手机非常满意，做工精细，充电很快，曲面屏很有画质感，手感很好大小合适，功能全棉，运行速度快，画质很清晰， 最重要的是拍照功能一流，夜拍也十分清晰。。好看呀，壳是我自己配的，手机大概用了一个月了吧，很流畅，没有卡顿的现象，珠光贝母真的很好看，适合女孩纸。还有充电是真的快，充电的时候不玩手机从3电开始冲一个小时就能充满了，最后感叹一下，真的吼吼看呀！小胖同款你值得拥有。\"外形外观：外观非常漂亮，抢眼球！。屏幕音效：虽然只有下方有一个扬声器，但模拟音效做的非常不错，声音表现很好。拍照效果：此款手机最值得购买的就是拍照效果了！我最推荐的就是夜景拍摄，在近乎看不到物体的情况下，能排出超乎想象的效果，图片清晰明亮，真的很强大！至于它的超远焦效果，个人不敢恭维，请自行体验。。运行速度：非常流畅，手感很好！。待机时间：很长，个人感觉，省着点用两天，费着点用一天半。当然我个人不追剧，不吃 机（狂玩游戏）！哈。其他特色：手感好，颜值好，配上适当的外壳，即提高保护，又增加颜值，炫酷之至！\"。手机很大气很好看，当初犹豫很久天空之境还是珠光贝母，最后选了天空之境果然没让我失望，特别漂亮，但我感觉珠光贝母也挺好看的，屏幕很大用着顺手，就喜欢大屏，屏幕挺好的没感觉他们说的京东瓶不好，清晰，曲面挺好咯，感觉Android系统好于苹果，自己用喜欢习惯吧，手机秒开应用，内存大完全不用担心，总之很喜欢进网许可都有，因该是正品，毕竟五千多的手机，相机还没太使用，但是拍摄自动调试合适模式感觉很好，翻译器挺棒，就是手机整体很棒，支持国产支持华为！。\"外形外观：大。屏幕音效：音质可以哦。拍照效果：效果超好的！单反要退休了。运行速度：正在诗。待机时间：12小时不断。其他特色：颜色完美\"。\"外形外观：不错，很漂亮。屏幕音效：通话清晰。拍照效果：50倍放大，清晰可见。运行速度：新手机运行都很快。'\n",
    "word_topk = al.extract_tags(word,topK=4)\n",
    "print(\"/\".join(word_topk))"
   ],
   "metadata": {
    "collapsed": false,
    "ExecuteTime": {
     "end_time": "2024-05-17T03:15:26.053761800Z",
     "start_time": "2024-05-17T03:15:26.025565400Z"
    }
   },
   "id": "700af335c82da81e",
   "execution_count": 9
  },
  {
   "cell_type": "code",
   "outputs": [],
   "source": [],
   "metadata": {
    "collapsed": false
   },
   "id": "6c217b3cf859eec1"
  }
 ],
 "metadata": {
  "kernelspec": {
   "display_name": "Python 3",
   "language": "python",
   "name": "python3"
  },
  "language_info": {
   "codemirror_mode": {
    "name": "ipython",
    "version": 2
   },
   "file_extension": ".py",
   "mimetype": "text/x-python",
   "name": "python",
   "nbconvert_exporter": "python",
   "pygments_lexer": "ipython2",
   "version": "2.7.6"
  }
 },
 "nbformat": 4,
 "nbformat_minor": 5
}
